{
 "cells": [
  {
   "attachments": {},
   "cell_type": "markdown",
   "metadata": {},
   "source": [
    "# Assignment 2\n",
    "### Q1\n",
    "\n",
    "The GUI is created using tkinter and is relatively simple."
   ]
  },
  {
   "cell_type": "code",
   "execution_count": null,
   "metadata": {},
   "outputs": [],
   "source": [
    "import tkinter as tk\n",
    "from tkinter import messagebox, filedialog\n",
    "import cv2\n",
    "import numpy as np\n",
    "\n",
    "class FingerprintRecognitionApp:\n",
    "    def __init__(self, root):\n",
    "        self.root = root\n",
    "        self.root.title(\"Fingerprint Recognition System\")\n",
    "\n",
    "        self.enrolled_fingerprints = {}\n",
    "\n",
    "        self.create_widgets()\n",
    "\n",
    "    def create_widgets(self):\n",
    "        # Enrollment Frame\n",
    "        enrollment_frame = tk.Frame(self.root, padx=10, pady=10)\n",
    "        enrollment_frame.grid(row=0, column=0, padx=10, pady=10)\n",
    "\n",
    "        tk.Label(enrollment_frame, text=\"Enroll Fingerprint:\").grid(row=0, column=0, columnspan=2)\n",
    "\n",
    "        self.enroll_button = tk.Button(enrollment_frame, text=\"Enroll\", command=self.enroll_fingerprint)\n",
    "        self.enroll_button.grid(row=1, column=0, padx=5, pady=5)\n",
    "\n",
    "        # Comparison Frame\n",
    "        comparison_frame = tk.Frame(self.root, padx=10, pady=10)\n",
    "        comparison_frame.grid(row=0, column=1, padx=10, pady=10)\n",
    "\n",
    "        tk.Label(comparison_frame, text=\"Compare Fingerprint:\").grid(row=0, column=0, columnspan=2)\n",
    "\n",
    "        self.compare_button = tk.Button(comparison_frame, text=\"Compare\", command=self.compare_fingerprint)\n",
    "        self.compare_button.grid(row=1, column=0, padx=5, pady=5)\n",
    "\n",
    "        # Evaluation Frame\n",
    "        evaluation_frame = tk.Frame(self.root, padx=10, pady=10)\n",
    "        evaluation_frame.grid(row=1, column=0, columnspan=2, padx=10, pady=10)\n",
    "\n",
    "        tk.Label(evaluation_frame, text=\"Evaluation:\").grid(row=0, column=0, columnspan=2)\n",
    "\n",
    "        self.evaluate_button = tk.Button(evaluation_frame, text=\"Evaluate\", command=self.evaluate_system)\n",
    "        self.evaluate_button.grid(row=1, column=0, padx=5, pady=5)\n",
    "        \n",
    "    def generate_fingerprint_id(self):\n",
    "        # Generate a UUID (version 4) as the fingerprint ID\n",
    "        return str(uuid.uuid4())\n",
    "\n",
    "    def enroll_fingerprint(self):\n",
    "        # Placeholder function for enrolling fingerprints\n",
    "        # Here you can add code to capture a fingerprint image and extract its features\n",
    "        fingerprint_features = self.process_and_extract_features()  # Replace this with actual feature extraction code\n",
    "        if fingerprint_features is not None:\n",
    "            fingerprint_id = self.generate_fingerprint_id()  # Replace this with actual ID generation code\n",
    "            self.enrolled_fingerprints[fingerprint_id] = fingerprint_features\n",
    "            messagebox.showinfo(\"Enroll Fingerprint\", \"Fingerprint enrolled successfully. ID: {}\".format(fingerprint_id))\n",
    "\n",
    "    def compare_fingerprint(self):\n",
    "        # Placeholder function for comparing fingerprints\n",
    "        messagebox.showinfo(\"Compare Fingerprint\", \"Fingerprint compared successfully.\")\n",
    "\n",
    "    def evaluate_system(self):\n",
    "        # Placeholder function for evaluating system\n",
    "        messagebox.showinfo(\"Evaluate System\", \"System evaluation completed.\")\n",
    "\n",
    "def main():\n",
    "    root = tk.Tk()\n",
    "    app = FingerprintRecognitionApp(root)\n",
    "    root.mainloop()\n",
    "\n",
    "if __name__ == \"__main__\":\n",
    "    main()\n"
   ]
  },
  {
   "cell_type": "code",
   "execution_count": null,
   "metadata": {},
   "outputs": [],
   "source": []
  }
 ],
 "metadata": {
  "kernelspec": {
   "display_name": "Python 3 (ipykernel)",
   "language": "python",
   "name": "python3"
  },
  "language_info": {
   "codemirror_mode": {
    "name": "ipython",
    "version": 3
   },
   "file_extension": ".py",
   "mimetype": "text/x-python",
   "name": "python",
   "nbconvert_exporter": "python",
   "pygments_lexer": "ipython3",
   "version": "3.9.12"
  },
  "orig_nbformat": 4,
  "vscode": {
   "interpreter": {
    "hash": "aee8b7b246df8f9039afb4144a1f6fd8d2ca17a180786b69acc140d282b71a49"
   }
  }
 },
 "nbformat": 4,
 "nbformat_minor": 2
}
