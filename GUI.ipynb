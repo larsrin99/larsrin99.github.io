{
 "cells": [
  {
   "attachments": {},
   "cell_type": "markdown",
   "metadata": {},
   "source": [
    "# Assignment 2\n",
    "### Q1\n",
    "\n",
    "The GUI is created using tkinter and is relatively simple."
   ]
  },
  {
   "cell_type": "code",
   "execution_count": 4,
   "metadata": {
    "vscode": {
     "languageId": "python"
    }
   },
   "outputs": [
    {
     "name": "stderr",
     "output_type": "stream",
     "text": [
      "Exception in Tkinter callback\n",
      "Traceback (most recent call last):\n",
      "  File \"/Users/larsringstad/opt/anaconda3/lib/python3.9/tkinter/__init__.py\", line 1892, in __call__\n",
      "    return self.func(*args)\n",
      "  File \"/var/folders/dl/_fy4302n6_bffpqsdlrs88cr0000gn/T/ipykernel_34171/1496167409.py\", line 49, in enroll_fingerprint\n",
      "    fingerprint_image, valid_minutiae, local_structures = process_and_extract_features()\n",
      "NameError: name 'process_and_extract_features' is not defined\n"
     ]
    }
   ],
   "source": [
    "import tkinter as tk\n",
    "from tkinter import messagebox, filedialog\n",
    "import cv2\n",
    "import numpy as np\n",
    "import pickle\n",
    "import processing_prints\n",
    "\n",
    "\n",
    "class FingerprintRecognitionApp:\n",
    "    def __init__(self, root):\n",
    "        self.root = root\n",
    "        self.root.title(\"Fingerprint Recognition System\")\n",
    "\n",
    "        self.enrolled_fingerprints = {}\n",
    "\n",
    "        self.create_widgets()\n",
    "\n",
    "    def create_widgets(self):\n",
    "        # Enrollment Frame\n",
    "        enrollment_frame = tk.Frame(self.root, padx=10, pady=10)\n",
    "        enrollment_frame.grid(row=0, column=0, padx=10, pady=10)\n",
    "\n",
    "        tk.Label(enrollment_frame, text=\"Enroll Fingerprint:\").grid(row=0, column=0, columnspan=2)\n",
    "\n",
    "        self.enroll_button = tk.Button(enrollment_frame, text=\"Enroll\", command=self.enroll_fingerprint)\n",
    "        self.enroll_button.grid(row=1, column=0, padx=5, pady=5)\n",
    "\n",
    "        # Comparison Frame\n",
    "        comparison_frame = tk.Frame(self.root, padx=10, pady=10)\n",
    "        comparison_frame.grid(row=0, column=1, padx=10, pady=10)\n",
    "\n",
    "        tk.Label(comparison_frame, text=\"Compare Fingerprint:\").grid(row=0, column=0, columnspan=2)\n",
    "\n",
    "        self.compare_button = tk.Button(comparison_frame, text=\"Compare\", command=self.compare_fingerprint)\n",
    "        self.compare_button.grid(row=1, column=0, padx=5, pady=5)\n",
    "\n",
    "        # Evaluation Frame\n",
    "        evaluation_frame = tk.Frame(self.root, padx=10, pady=10)\n",
    "        evaluation_frame.grid(row=1, column=0, columnspan=2, padx=10, pady=10)\n",
    "\n",
    "        tk.Label(evaluation_frame, text=\"Evaluation:\").grid(row=0, column=0, columnspan=2)\n",
    "\n",
    "        self.evaluate_button = tk.Button(evaluation_frame, text=\"Evaluate\", command=self.evaluate_system)\n",
    "        self.evaluate_button.grid(row=1, column=0, padx=5, pady=5)\n",
    "        \n",
    "\n",
    "    def enroll_fingerprint(self):\n",
    "        # Call the process_and_extract_features function to process the fingerprint\n",
    "        fingerprint_image, valid_minutiae, local_structures = process_and_extract_features()\n",
    "\n",
    "        # Store the features in a file using pickle\n",
    "        # Store the features in a dictionary\n",
    "        enrolled_features = {\n",
    "            'fingerprint_image': fingerprint_image,\n",
    "            'valid_minutiae': valid_minutiae,\n",
    "            'local_structures': local_structures\n",
    "        }\n",
    "\n",
    "        # Save the dictionary to a file using pickle\n",
    "        with open('enrolled_features.pickle', 'wb') as f:\n",
    "            pickle.dump(enrolled_features, f)\n",
    "\n",
    "        print(\"Enrolled features stored successfully!\")\n",
    "\n",
    "    def compare_fingerprint(self):\n",
    "        # Placeholder function for comparing fingerprints\n",
    "        messagebox.showinfo(\"Compare Fingerprint\", \"Fingerprint compared successfully.\")\n",
    "\n",
    "    def evaluate_system(self):\n",
    "        # Placeholder function for evaluating system\n",
    "        messagebox.showinfo(\"Evaluate System\", \"System evaluation completed.\")\n",
    "\n",
    "def main():\n",
    "    root = tk.Tk()\n",
    "    app = FingerprintRecognitionApp(root)\n",
    "    root.mainloop()\n",
    "\n",
    "if __name__ == \"__main__\":\n",
    "    main()\n"
   ]
  },
  {
   "cell_type": "code",
   "execution_count": null,
   "metadata": {
    "vscode": {
     "languageId": "python"
    }
   },
   "outputs": [],
   "source": []
  }
 ],
 "metadata": {
  "kernelspec": {
   "display_name": "Python 3 (ipykernel)",
   "language": "python",
   "name": "python3"
  },
  "orig_nbformat": 4,
  "vscode": {
   "interpreter": {
    "hash": "aee8b7b246df8f9039afb4144a1f6fd8d2ca17a180786b69acc140d282b71a49"
   }
  }
 },
 "nbformat": 4,
 "nbformat_minor": 2
}
